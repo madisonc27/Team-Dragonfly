{
 "cells": [
  {
   "cell_type": "markdown",
   "id": "5881a50c",
   "metadata": {},
   "source": [
    "First let's load up some basic files"
   ]
  },
  {
   "cell_type": "code",
   "execution_count": 2,
   "id": "10171c26",
   "metadata": {},
   "outputs": [],
   "source": [
    "import pandas as pd\n",
    "import numpy as np"
   ]
  },
  {
   "cell_type": "markdown",
   "id": "6085a715",
   "metadata": {},
   "source": [
    "Now let's load up our cleaned coffee data"
   ]
  },
  {
   "cell_type": "code",
   "execution_count": 3,
   "id": "b9bbac73",
   "metadata": {},
   "outputs": [],
   "source": [
    "coffee_df = pd.read_csv('../data/coffee.csv')"
   ]
  },
  {
   "cell_type": "markdown",
   "id": "da9b7816",
   "metadata": {},
   "source": [
    "Creating a copy of the original"
   ]
  },
  {
   "cell_type": "code",
   "execution_count": 4,
   "id": "dd9a9103",
   "metadata": {},
   "outputs": [],
   "source": [
    "coffee = coffee_df.copy()"
   ]
  },
  {
   "cell_type": "code",
   "execution_count": 5,
   "id": "e5716d94",
   "metadata": {},
   "outputs": [
    {
     "data": {
      "text/html": [
       "<div>\n",
       "<style scoped>\n",
       "    .dataframe tbody tr th:only-of-type {\n",
       "        vertical-align: middle;\n",
       "    }\n",
       "\n",
       "    .dataframe tbody tr th {\n",
       "        vertical-align: top;\n",
       "    }\n",
       "\n",
       "    .dataframe thead th {\n",
       "        text-align: right;\n",
       "    }\n",
       "</style>\n",
       "<table border=\"1\" class=\"dataframe\">\n",
       "  <thead>\n",
       "    <tr style=\"text-align: right;\">\n",
       "      <th></th>\n",
       "      <th>Country_of_Origin</th>\n",
       "      <th>Processing_Method</th>\n",
       "      <th>Aroma</th>\n",
       "      <th>Flavor</th>\n",
       "      <th>Aftertaste</th>\n",
       "      <th>Acidity</th>\n",
       "      <th>Body</th>\n",
       "      <th>Balance</th>\n",
       "      <th>Uniformity</th>\n",
       "      <th>Clean_Cup</th>\n",
       "      <th>Sweetness</th>\n",
       "      <th>Cupper_Points</th>\n",
       "      <th>altitude_low_meters</th>\n",
       "      <th>altitude_high_meters</th>\n",
       "      <th>altitude_mean_meters</th>\n",
       "    </tr>\n",
       "  </thead>\n",
       "  <tbody>\n",
       "    <tr>\n",
       "      <th>0</th>\n",
       "      <td>Ethiopia</td>\n",
       "      <td>Washed / Wet</td>\n",
       "      <td>8.67</td>\n",
       "      <td>8.83</td>\n",
       "      <td>8.67</td>\n",
       "      <td>8.75</td>\n",
       "      <td>8.50</td>\n",
       "      <td>8.42</td>\n",
       "      <td>10.0</td>\n",
       "      <td>10.0</td>\n",
       "      <td>10.0</td>\n",
       "      <td>8.75</td>\n",
       "      <td>1950.0</td>\n",
       "      <td>2200.0</td>\n",
       "      <td>2075.0</td>\n",
       "    </tr>\n",
       "    <tr>\n",
       "      <th>1</th>\n",
       "      <td>Ethiopia</td>\n",
       "      <td>Washed / Wet</td>\n",
       "      <td>8.75</td>\n",
       "      <td>8.67</td>\n",
       "      <td>8.50</td>\n",
       "      <td>8.58</td>\n",
       "      <td>8.42</td>\n",
       "      <td>8.42</td>\n",
       "      <td>10.0</td>\n",
       "      <td>10.0</td>\n",
       "      <td>10.0</td>\n",
       "      <td>8.58</td>\n",
       "      <td>1950.0</td>\n",
       "      <td>2200.0</td>\n",
       "      <td>2075.0</td>\n",
       "    </tr>\n",
       "    <tr>\n",
       "      <th>2</th>\n",
       "      <td>Guatemala</td>\n",
       "      <td>NaN</td>\n",
       "      <td>8.42</td>\n",
       "      <td>8.50</td>\n",
       "      <td>8.42</td>\n",
       "      <td>8.42</td>\n",
       "      <td>8.33</td>\n",
       "      <td>8.42</td>\n",
       "      <td>10.0</td>\n",
       "      <td>10.0</td>\n",
       "      <td>10.0</td>\n",
       "      <td>9.25</td>\n",
       "      <td>1600.0</td>\n",
       "      <td>1800.0</td>\n",
       "      <td>1700.0</td>\n",
       "    </tr>\n",
       "    <tr>\n",
       "      <th>3</th>\n",
       "      <td>Ethiopia</td>\n",
       "      <td>Natural / Dry</td>\n",
       "      <td>8.17</td>\n",
       "      <td>8.58</td>\n",
       "      <td>8.42</td>\n",
       "      <td>8.42</td>\n",
       "      <td>8.50</td>\n",
       "      <td>8.25</td>\n",
       "      <td>10.0</td>\n",
       "      <td>10.0</td>\n",
       "      <td>10.0</td>\n",
       "      <td>8.67</td>\n",
       "      <td>1800.0</td>\n",
       "      <td>2200.0</td>\n",
       "      <td>2000.0</td>\n",
       "    </tr>\n",
       "    <tr>\n",
       "      <th>4</th>\n",
       "      <td>Ethiopia</td>\n",
       "      <td>Washed / Wet</td>\n",
       "      <td>8.25</td>\n",
       "      <td>8.50</td>\n",
       "      <td>8.25</td>\n",
       "      <td>8.50</td>\n",
       "      <td>8.42</td>\n",
       "      <td>8.33</td>\n",
       "      <td>10.0</td>\n",
       "      <td>10.0</td>\n",
       "      <td>10.0</td>\n",
       "      <td>8.58</td>\n",
       "      <td>1950.0</td>\n",
       "      <td>2200.0</td>\n",
       "      <td>2075.0</td>\n",
       "    </tr>\n",
       "  </tbody>\n",
       "</table>\n",
       "</div>"
      ],
      "text/plain": [
       "  Country_of_Origin Processing_Method  Aroma  Flavor  Aftertaste  Acidity  \\\n",
       "0          Ethiopia      Washed / Wet   8.67    8.83        8.67     8.75   \n",
       "1          Ethiopia      Washed / Wet   8.75    8.67        8.50     8.58   \n",
       "2         Guatemala               NaN   8.42    8.50        8.42     8.42   \n",
       "3          Ethiopia     Natural / Dry   8.17    8.58        8.42     8.42   \n",
       "4          Ethiopia      Washed / Wet   8.25    8.50        8.25     8.50   \n",
       "\n",
       "   Body  Balance  Uniformity  Clean_Cup  Sweetness  Cupper_Points  \\\n",
       "0  8.50     8.42        10.0       10.0       10.0           8.75   \n",
       "1  8.42     8.42        10.0       10.0       10.0           8.58   \n",
       "2  8.33     8.42        10.0       10.0       10.0           9.25   \n",
       "3  8.50     8.25        10.0       10.0       10.0           8.67   \n",
       "4  8.42     8.33        10.0       10.0       10.0           8.58   \n",
       "\n",
       "   altitude_low_meters  altitude_high_meters  altitude_mean_meters  \n",
       "0               1950.0                2200.0                2075.0  \n",
       "1               1950.0                2200.0                2075.0  \n",
       "2               1600.0                1800.0                1700.0  \n",
       "3               1800.0                2200.0                2000.0  \n",
       "4               1950.0                2200.0                2075.0  "
      ]
     },
     "execution_count": 5,
     "metadata": {},
     "output_type": "execute_result"
    }
   ],
   "source": [
    "coffee.head()"
   ]
  },
  {
   "cell_type": "code",
   "execution_count": 6,
   "id": "7b32cb23",
   "metadata": {},
   "outputs": [
    {
     "name": "stdout",
     "output_type": "stream",
     "text": [
      "<class 'pandas.core.frame.DataFrame'>\n",
      "RangeIndex: 1254 entries, 0 to 1253\n",
      "Data columns (total 15 columns):\n",
      " #   Column                Non-Null Count  Dtype  \n",
      "---  ------                --------------  -----  \n",
      " 0   Country_of_Origin     1254 non-null   object \n",
      " 1   Processing_Method     1107 non-null   object \n",
      " 2   Aroma                 1254 non-null   float64\n",
      " 3   Flavor                1254 non-null   float64\n",
      " 4   Aftertaste            1254 non-null   float64\n",
      " 5   Acidity               1254 non-null   float64\n",
      " 6   Body                  1254 non-null   float64\n",
      " 7   Balance               1254 non-null   float64\n",
      " 8   Uniformity            1254 non-null   float64\n",
      " 9   Clean_Cup             1254 non-null   float64\n",
      " 10  Sweetness             1254 non-null   float64\n",
      " 11  Cupper_Points         1254 non-null   float64\n",
      " 12  altitude_low_meters   1029 non-null   float64\n",
      " 13  altitude_high_meters  1029 non-null   float64\n",
      " 14  altitude_mean_meters  1029 non-null   float64\n",
      "dtypes: float64(13), object(2)\n",
      "memory usage: 147.1+ KB\n"
     ]
    }
   ],
   "source": [
    "coffee.info()"
   ]
  },
  {
   "cell_type": "markdown",
   "id": "92898254",
   "metadata": {},
   "source": [
    "Note that many rows are missing altitude information. We can either perform imputation or remove those rows. We will try removing those rows, while also keeping a data frame that retains those rows for later imputation if we wish."
   ]
  },
  {
   "cell_type": "code",
   "execution_count": 7,
   "id": "fb8e3153",
   "metadata": {},
   "outputs": [
    {
     "name": "stdout",
     "output_type": "stream",
     "text": [
      "<class 'pandas.core.frame.DataFrame'>\n",
      "Int64Index: 1029 entries, 0 to 1253\n",
      "Data columns (total 15 columns):\n",
      " #   Column                Non-Null Count  Dtype  \n",
      "---  ------                --------------  -----  \n",
      " 0   Country_of_Origin     1029 non-null   object \n",
      " 1   Processing_Method     954 non-null    object \n",
      " 2   Aroma                 1029 non-null   float64\n",
      " 3   Flavor                1029 non-null   float64\n",
      " 4   Aftertaste            1029 non-null   float64\n",
      " 5   Acidity               1029 non-null   float64\n",
      " 6   Body                  1029 non-null   float64\n",
      " 7   Balance               1029 non-null   float64\n",
      " 8   Uniformity            1029 non-null   float64\n",
      " 9   Clean_Cup             1029 non-null   float64\n",
      " 10  Sweetness             1029 non-null   float64\n",
      " 11  Cupper_Points         1029 non-null   float64\n",
      " 12  altitude_low_meters   1029 non-null   float64\n",
      " 13  altitude_high_meters  1029 non-null   float64\n",
      " 14  altitude_mean_meters  1029 non-null   float64\n",
      "dtypes: float64(13), object(2)\n",
      "memory usage: 128.6+ KB\n"
     ]
    }
   ],
   "source": [
    "coffee_dropnan = coffee.dropna(subset = [\"altitude_low_meters\", \"altitude_high_meters\", \"altitude_mean_meters\"], \n",
    "                                           axis = 0)\n",
    "coffee_dropnan.info()"
   ]
  },
  {
   "cell_type": "markdown",
   "id": "3c063850",
   "metadata": {},
   "source": [
    "Several entries also contain outlier values for the altitudes that are extremely high. We will remove those."
   ]
  },
  {
   "cell_type": "code",
   "execution_count": 14,
   "id": "d9d9bc39",
   "metadata": {},
   "outputs": [
    {
     "name": "stdout",
     "output_type": "stream",
     "text": [
      "1823.4795747327482\n"
     ]
    }
   ],
   "source": [
    "print(coffee_dropnan.altitude_high_meters.mean())"
   ]
  },
  {
   "cell_type": "code",
   "execution_count": 25,
   "id": "d76f905f",
   "metadata": {},
   "outputs": [],
   "source": [
    "coffee_dropnan = coffee_dropnan.drop(coffee_dropnan[coffee_dropnan.altitude_mean_meters > 2500].index)"
   ]
  },
  {
   "cell_type": "markdown",
   "id": "f9b742ae",
   "metadata": {},
   "source": [
    "Now remove the countries with too few entries. "
   ]
  },
  {
   "cell_type": "code",
   "execution_count": 26,
   "id": "76d01cce",
   "metadata": {},
   "outputs": [
    {
     "data": {
      "text/plain": [
       "Mexico                          232\n",
       "Guatemala                       151\n",
       "Colombia                        146\n",
       "Brazil                          104\n",
       "Taiwan                           70\n",
       "Honduras                         50\n",
       "Costa Rica                       46\n",
       "Tanzania, United Republic Of     37\n",
       "Ethiopia                         30\n",
       "Uganda                           24\n",
       "Kenya                            23\n",
       "Thailand                         20\n",
       "El Salvador                      19\n",
       "Indonesia                        17\n",
       "Nicaragua                        17\n",
       "China                            16\n",
       "Malawi                           11\n",
       "United States (Hawaii)            2\n",
       "Peru                              2\n",
       "Name: Country_of_Origin, dtype: int64"
      ]
     },
     "execution_count": 26,
     "metadata": {},
     "output_type": "execute_result"
    }
   ],
   "source": [
    "coffee_dropnan.Country_of_Origin.value_counts()"
   ]
  },
  {
   "cell_type": "code",
   "execution_count": 32,
   "id": "c5151e6a",
   "metadata": {},
   "outputs": [],
   "source": [
    "countries_nan = coffee_dropnan.Country_of_Origin.value_counts()"
   ]
  },
  {
   "cell_type": "code",
   "execution_count": 33,
   "id": "447a141e",
   "metadata": {},
   "outputs": [],
   "source": [
    "drop_list_nan = []"
   ]
  },
  {
   "cell_type": "code",
   "execution_count": 34,
   "id": "b78b2990",
   "metadata": {},
   "outputs": [],
   "source": [
    "for count in countries_nan.index:\n",
    "    if countries_nan[count] < 10:\n",
    "        drop_list_nan.append(count)"
   ]
  },
  {
   "cell_type": "code",
   "execution_count": 35,
   "id": "d2d57c3a",
   "metadata": {},
   "outputs": [
    {
     "data": {
      "text/plain": [
       "[]"
      ]
     },
     "execution_count": 35,
     "metadata": {},
     "output_type": "execute_result"
    }
   ],
   "source": [
    "drop_list_nan"
   ]
  },
  {
   "cell_type": "code",
   "execution_count": 36,
   "id": "dfe99e75",
   "metadata": {},
   "outputs": [],
   "source": [
    "for item in drop_list_nan:\n",
    "    coffee_dropnan.drop(coffee_dropnan[coffee_dropnan.Country_of_Origin == item].index, inplace=True)"
   ]
  },
  {
   "cell_type": "code",
   "execution_count": 37,
   "id": "5678247b",
   "metadata": {},
   "outputs": [
    {
     "name": "stdout",
     "output_type": "stream",
     "text": [
      "Mexico                          232\n",
      "Guatemala                       151\n",
      "Colombia                        146\n",
      "Brazil                          104\n",
      "Taiwan                           70\n",
      "Honduras                         50\n",
      "Costa Rica                       46\n",
      "Tanzania, United Republic Of     37\n",
      "Ethiopia                         30\n",
      "Uganda                           24\n",
      "Kenya                            23\n",
      "Thailand                         20\n",
      "El Salvador                      19\n",
      "Indonesia                        17\n",
      "Nicaragua                        17\n",
      "China                            16\n",
      "Malawi                           11\n",
      "Name: Country_of_Origin, dtype: int64\n"
     ]
    }
   ],
   "source": [
    "print(coffee_dropnan.Country_of_Origin.value_counts())"
   ]
  },
  {
   "cell_type": "markdown",
   "id": "c35903d3",
   "metadata": {},
   "source": [
    "Saving the file."
   ]
  },
  {
   "cell_type": "code",
   "execution_count": 38,
   "id": "435abfe6",
   "metadata": {},
   "outputs": [],
   "source": [
    "coffee_dropnan.to_csv('../data/coffee_dropnan.csv',index = False)"
   ]
  },
  {
   "cell_type": "code",
   "execution_count": null,
   "id": "a05166fa",
   "metadata": {},
   "outputs": [],
   "source": []
  }
 ],
 "metadata": {
  "kernelspec": {
   "display_name": "Python 3 (ipykernel)",
   "language": "python",
   "name": "python3"
  },
  "language_info": {
   "codemirror_mode": {
    "name": "ipython",
    "version": 3
   },
   "file_extension": ".py",
   "mimetype": "text/x-python",
   "name": "python",
   "nbconvert_exporter": "python",
   "pygments_lexer": "ipython3",
   "version": "3.9.7"
  }
 },
 "nbformat": 4,
 "nbformat_minor": 5
}
