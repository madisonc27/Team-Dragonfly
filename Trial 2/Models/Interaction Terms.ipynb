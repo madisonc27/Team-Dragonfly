{
 "cells": [
  {
   "cell_type": "markdown",
   "id": "cd59b257",
   "metadata": {},
   "source": [
    "## Multiple Linear Regression Interaction Terms\n",
    "First we will add interaction terms to our MLR model."
   ]
  },
  {
   "cell_type": "markdown",
   "id": "67867e46",
   "metadata": {},
   "source": [
    "## Uploading the data and creating a train test split"
   ]
  },
  {
   "cell_type": "code",
   "execution_count": 15,
   "id": "0f0402cc",
   "metadata": {},
   "outputs": [],
   "source": [
    "#importing\n",
    "import pandas as pd\n",
    "import numpy as np\n",
    "from sklearn.model_selection import train_test_split\n",
    "import matplotlib.pyplot as plt\n",
    "from seaborn import set_style\n",
    "\n",
    "set_style(\"whitegrid\")"
   ]
  },
  {
   "cell_type": "code",
   "execution_count": 16,
   "id": "9ad320c0",
   "metadata": {},
   "outputs": [],
   "source": [
    "## first load the data\n",
    "coffee = pd.read_csv('../data/one_hot_coffee.csv')\n",
    "coffee = coffee.copy()"
   ]
  },
  {
   "cell_type": "code",
   "execution_count": 17,
   "id": "a9c75f92",
   "metadata": {},
   "outputs": [],
   "source": [
    "## next perform the train test split\n",
    "coffee_train, coffee_test = train_test_split(coffee,\n",
    "                                            shuffle=True,\n",
    "                                            random_state=47,\n",
    "                                            test_size = .2)"
   ]
  },
  {
   "cell_type": "markdown",
   "id": "76f9da11",
   "metadata": {},
   "source": [
    "## Creating a baseline"
   ]
  },
  {
   "cell_type": "code",
   "execution_count": 18,
   "id": "c93e8107",
   "metadata": {},
   "outputs": [
    {
     "name": "stdout",
     "output_type": "stream",
     "text": [
      "90.4599101988454\n"
     ]
    }
   ],
   "source": [
    "## make a baseline\n",
    "baseline = coffee['rating'].mean()\n",
    "print(baseline)"
   ]
  },
  {
   "cell_type": "markdown",
   "id": "d517c319",
   "metadata": {},
   "source": [
    "## Creating new interation terms."
   ]
  },
  {
   "cell_type": "code",
   "execution_count": 19,
   "id": "c35e7d24",
   "metadata": {},
   "outputs": [],
   "source": [
    "roasts = ['Light','Medium-Light',  'Medium', 'Medium-Dark', 'Dark', 'Very Dark']"
   ]
  },
  {
   "cell_type": "code",
   "execution_count": 22,
   "id": "f7c6a8be",
   "metadata": {
    "scrolled": true
   },
   "outputs": [],
   "source": [
    "## Make Espresso interaction terms.\n",
    "for i in roasts:\n",
    "    coffee_train.loc[:,'espresso '+ i] = coffee_train['type_espresso'].copy() * coffee_train[i].copy()"
   ]
  },
  {
   "cell_type": "code",
   "execution_count": 23,
   "id": "8b5d8307",
   "metadata": {},
   "outputs": [],
   "source": [
    "## Make Pod interaction terms.\n",
    "for i in roasts:\n",
    "    coffee_train.loc[:,'pod '+ i] = coffee_train['type_pod_capsule'].copy() * coffee_train[i].copy()"
   ]
  },
  {
   "cell_type": "code",
   "execution_count": 24,
   "id": "2e2c7a3c",
   "metadata": {},
   "outputs": [],
   "source": [
    "# Create new predictor list.\n",
    "predictors = ['region_africa_arabia', 'region_caribbean',\n",
    "       'region_central_america', 'region_hawaii', 'region_asia_pacific',\n",
    "       'region_south_america', 'type_espresso', 'type_organic',\n",
    "       'type_fair_trade', 'type_decaffeinated', 'type_pod_capsule',\n",
    "       'type_blend', 'type_estate', 'Dark', 'Light', 'Medium', 'Medium-Dark',\n",
    "        'Medium-Light', 'Very Dark','espresso Dark',\n",
    "       'espresso Light', 'espresso Medium', 'espresso Medium-Dark',\n",
    "       'espresso Medium-Light', 'espresso Very Dark', 'pod Dark', 'pod Light',\n",
    "       'pod Medium', 'pod Medium-Dark', 'pod Medium-Light', 'pod Very Dark']"
   ]
  },
  {
   "cell_type": "markdown",
   "id": "d401fc8f",
   "metadata": {},
   "source": [
    "## Creating MLR Model with interaction terms and running cross validation"
   ]
  },
  {
   "cell_type": "code",
   "execution_count": 25,
   "id": "428d0a21",
   "metadata": {},
   "outputs": [],
   "source": [
    "## importing\n",
    "from sklearn.linear_model import LinearRegression\n",
    "from sklearn.metrics import mean_squared_error, mean_absolute_error\n",
    "from sklearn.model_selection import KFold"
   ]
  },
  {
   "cell_type": "code",
   "execution_count": 26,
   "id": "9890996a",
   "metadata": {},
   "outputs": [],
   "source": [
    "## kfold splits\n",
    "splits = 5\n",
    "kfold = KFold(n_splits=splits, shuffle=True, random_state=413)\n",
    "\n",
    "# creating model object and tables to hold results\n",
    "reg = LinearRegression(copy_X = True)\n",
    "mse = np.empty(splits)\n",
    "mae = np.empty(splits)\n",
    "\n",
    "i = 0\n",
    "\n",
    "for train_index, test_index in kfold.split(coffee_train):\n",
    "    #train and holdouts\n",
    "    coffee_train_train = coffee_train.iloc[train_index]\n",
    "    coffee_holdout = coffee_train.iloc[test_index]\n",
    "\n",
    "    #fitting the model\n",
    "    reg.fit(coffee_train_train[predictors], \n",
    "            coffee_train_train['rating'])\n",
    "    \n",
    "    #running predictions\n",
    "    preds = reg.predict(coffee_train_train[predictors])\n",
    "    \n",
    "    #recording the errors\n",
    "    mse[i] = mean_squared_error(coffee_train_train['rating'], preds)\n",
    "    mae[i] = mean_absolute_error(coffee_train_train['rating'], preds)\n",
    "    \n",
    "    i = i+1\n"
   ]
  },
  {
   "cell_type": "code",
   "execution_count": 27,
   "id": "d06a32c4",
   "metadata": {},
   "outputs": [],
   "source": [
    "## make the predictions\n",
    "preds = reg.predict(coffee_train[predictors])\n",
    "preds_baseline = baseline * np.ones(len(coffee_train))"
   ]
  },
  {
   "cell_type": "code",
   "execution_count": 28,
   "id": "4379adeb",
   "metadata": {},
   "outputs": [
    {
     "name": "stdout",
     "output_type": "stream",
     "text": [
      "The mean squared error for multiple linear regression with interaction terms is 9.599984790313371\n",
      "The mean squared error for the baseline is 15.565458489578745\n"
     ]
    }
   ],
   "source": [
    "## check the mean squared error\n",
    "mse = mean_squared_error(coffee_train['rating'], preds)\n",
    "mse_baseline = mean_squared_error(coffee_train['rating'], preds_baseline)\n",
    "print(\"The mean squared error for multiple linear regression with interaction terms is\", mse)\n",
    "print(\"The mean squared error for the baseline is\", mse_baseline)"
   ]
  },
  {
   "cell_type": "code",
   "execution_count": 29,
   "id": "dadf23d3",
   "metadata": {},
   "outputs": [
    {
     "name": "stdout",
     "output_type": "stream",
     "text": [
      "The mean absolute error for multiple linear regression with interaction terms is 2.0565192092680347\n",
      "The mean absolute error for the baseline is 2.8500208925625063\n"
     ]
    }
   ],
   "source": [
    "mae = mean_absolute_error(coffee_train['rating'], preds)\n",
    "mae_baseline = mean_absolute_error(coffee_train['rating'], preds_baseline)\n",
    "print(\"The mean absolute error for multiple linear regression with interaction terms is\", mae)\n",
    "print(\"The mean absolute error for the baseline is\", mae_baseline)"
   ]
  },
  {
   "cell_type": "markdown",
   "id": "a338e06d",
   "metadata": {},
   "source": [
    "Our MLR with interaction terms model appears to be performing well on the training set compared to the baseline model and slightly better than the original MLR model. "
   ]
  },
  {
   "cell_type": "markdown",
   "id": "220bfa10",
   "metadata": {},
   "source": [
    "## Running the model on the test split"
   ]
  },
  {
   "cell_type": "code",
   "execution_count": 41,
   "id": "a59f2284",
   "metadata": {},
   "outputs": [],
   "source": [
    "## Make Espresso interaction terms.\n",
    "for i in roasts:\n",
    "    coffee_test.loc[:,'espresso '+ i] = coffee_test['type_espresso'].copy() * coffee_test[i].copy()\n",
    "\n",
    "## Make Pod interaction terms.\n",
    "for i in roasts:\n",
    "    coffee_test.loc[:,'pod '+ i] = coffee_test['type_pod_capsule'].copy() * coffee_test[i].copy()"
   ]
  },
  {
   "cell_type": "code",
   "execution_count": 42,
   "id": "61e1ecca",
   "metadata": {},
   "outputs": [
    {
     "data": {
      "text/plain": [
       "LinearRegression()"
      ]
     },
     "execution_count": 42,
     "metadata": {},
     "output_type": "execute_result"
    }
   ],
   "source": [
    "reg.fit(coffee_train[predictors], coffee_train.rating)"
   ]
  },
  {
   "cell_type": "code",
   "execution_count": 43,
   "id": "f5aaba79",
   "metadata": {},
   "outputs": [
    {
     "name": "stdout",
     "output_type": "stream",
     "text": [
      "The average cross validation mean squared error for multiple linear regression is 8.815056009924586\n",
      "The average cross validation mean absolute error for multiple linear regression is 2.0397200122930292\n"
     ]
    }
   ],
   "source": [
    "pred = reg.predict(coffee_test[predictors])\n",
    "test_mse = mean_squared_error(coffee_test.rating,pred)\n",
    "test_mae = mean_absolute_error(coffee_test.rating,pred)\n",
    "\n",
    "print(\"The average cross validation mean squared error for multiple linear regression is\", test_mse)\n",
    "print(\"The average cross validation mean absolute error for multiple linear regression is\", test_mae)"
   ]
  },
  {
   "cell_type": "markdown",
   "id": "49da2407",
   "metadata": {},
   "source": [
    "## Saving test results\n",
    "\n",
    "Now we save our test results. The code below was run to add to the csv file that contains the MSE and MAE for previous models. But it is commented out now as to not add it to the file again."
   ]
  },
  {
   "cell_type": "code",
   "execution_count": 44,
   "id": "87f5cf5f",
   "metadata": {},
   "outputs": [],
   "source": [
    "#import csv"
   ]
  },
  {
   "cell_type": "code",
   "execution_count": 45,
   "id": "ee3674bd",
   "metadata": {},
   "outputs": [],
   "source": [
    "#with open('testing_results.csv', mode='a') as coffee_file:\n",
    "    #results_writer = csv.writer(coffee_file, delimiter=',', quotechar='\"', quoting=csv.QUOTE_MINIMAL)\n",
    "\n",
    "    #results_writer.writerow(['MLR_Interaction', test_mse, test_mae])"
   ]
  },
  {
   "cell_type": "code",
   "execution_count": 10,
   "id": "a1131c86",
   "metadata": {},
   "outputs": [],
   "source": [
    "# import the complete testing results csv and save it as data frame, then save that data frame as an image for README\n",
    "results = pd.read_csv('testing_results.csv')\n",
    "final_results = pd.DataFrame(results)\n",
    "# add a column for root mean square error to allow easier comparison between RMSE and MAE\n",
    "final_results['RMSE'] = np.sqrt(final_results['MSE'])\n",
    "\n",
    "import dataframe_image as dfi\n",
    "\n",
    "dfi.export(final_results, 'testing_results.png')"
   ]
  },
  {
   "cell_type": "code",
   "execution_count": null,
   "id": "b2d2f8d2",
   "metadata": {},
   "outputs": [],
   "source": []
  }
 ],
 "metadata": {
  "kernelspec": {
   "display_name": "Python 3",
   "language": "python",
   "name": "python3"
  },
  "language_info": {
   "codemirror_mode": {
    "name": "ipython",
    "version": 3
   },
   "file_extension": ".py",
   "mimetype": "text/x-python",
   "name": "python",
   "nbconvert_exporter": "python",
   "pygments_lexer": "ipython3",
   "version": "3.8.8"
  }
 },
 "nbformat": 4,
 "nbformat_minor": 5
}
