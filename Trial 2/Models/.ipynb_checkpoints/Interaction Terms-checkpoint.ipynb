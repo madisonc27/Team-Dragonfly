{
 "cells": [
  {
   "cell_type": "markdown",
   "id": "cd59b257",
   "metadata": {},
   "source": [
    "## Multiple Linear Regression Interaction Terms\n",
    "First we will add interaction terms to our MLR model."
   ]
  },
  {
   "cell_type": "code",
   "execution_count": 43,
   "id": "0f0402cc",
   "metadata": {},
   "outputs": [],
   "source": [
    "import pandas as pd\n",
    "import numpy as np\n",
    "from sklearn.model_selection import train_test_split\n",
    "import matplotlib.pyplot as plt\n",
    "from seaborn import set_style\n",
    "\n",
    "set_style(\"whitegrid\")"
   ]
  },
  {
   "cell_type": "code",
   "execution_count": 2,
   "id": "9ad320c0",
   "metadata": {},
   "outputs": [],
   "source": [
    "## first load the data\n",
    "coffee = pd.read_csv('../data/one_hot_coffee.csv')\n",
    "coffee = coffee.copy()"
   ]
  },
  {
   "cell_type": "code",
   "execution_count": 4,
   "id": "a9c75f92",
   "metadata": {},
   "outputs": [],
   "source": [
    "## next perform the train test split\n",
    "coffee_train, coffee_test = train_test_split(coffee,\n",
    "                                            shuffle=True,\n",
    "                                            random_state=47,\n",
    "                                            test_size = .2)"
   ]
  },
  {
   "cell_type": "code",
   "execution_count": 5,
   "id": "c93e8107",
   "metadata": {},
   "outputs": [
    {
     "name": "stdout",
     "output_type": "stream",
     "text": [
      "90.4599101988454\n"
     ]
    }
   ],
   "source": [
    "## make a baseline\n",
    "baseline = coffee['rating'].mean()\n",
    "print(baseline)"
   ]
  },
  {
   "cell_type": "code",
   "execution_count": 6,
   "id": "428d0a21",
   "metadata": {},
   "outputs": [],
   "source": [
    "## import the LinearRegression object\n",
    "from sklearn.linear_model import LinearRegression\n",
    "from sklearn.metrics import mean_squared_error"
   ]
  },
  {
   "cell_type": "code",
   "execution_count": 8,
   "id": "c35e7d24",
   "metadata": {},
   "outputs": [],
   "source": [
    "roasts = ['Dark', 'Light', 'Medium', 'Medium-Dark', 'Medium-Light', 'Very Dark']"
   ]
  },
  {
   "cell_type": "markdown",
   "id": "d517c319",
   "metadata": {},
   "source": [
    "Creating new interation terms."
   ]
  },
  {
   "cell_type": "code",
   "execution_count": 18,
   "id": "f7c6a8be",
   "metadata": {
    "scrolled": true
   },
   "outputs": [],
   "source": [
    "## Make Espresso interaction terms.\n",
    "for i in roasts:\n",
    "    coffee_train.loc[:,'espresso '+ i] = coffee_train['type_espresso'].copy() * coffee_train[i].copy()"
   ]
  },
  {
   "cell_type": "code",
   "execution_count": 20,
   "id": "8b5d8307",
   "metadata": {},
   "outputs": [],
   "source": [
    "## Make Pod interaction terms.\n",
    "for i in roasts:\n",
    "    coffee_train.loc[:,'pod '+ i] = coffee_train['type_pod_capsule'].copy() * coffee_train[i].copy()"
   ]
  },
  {
   "cell_type": "code",
   "execution_count": 53,
   "id": "2e2c7a3c",
   "metadata": {},
   "outputs": [],
   "source": [
    "predictors = ['region_africa_arabia', 'region_caribbean',\n",
    "       'region_central_america', 'region_hawaii', 'region_asia_pacific',\n",
    "       'region_south_america', 'type_espresso', 'type_organic',\n",
    "       'type_fair_trade', 'type_decaffeinated', 'type_pod_capsule',\n",
    "       'type_blend', 'type_estate', 'Dark', 'Light', 'Medium', 'Medium-Dark',\n",
    "        'Medium-Light', 'Very Dark','espresso Dark',\n",
    "       'espresso Light', 'espresso Medium', 'espresso Medium-Dark',\n",
    "       'espresso Medium-Light', 'espresso Very Dark', 'pod Dark', 'pod Light',\n",
    "       'pod Medium', 'pod Medium-Dark', 'pod Medium-Light', 'pod Very Dark']"
   ]
  },
  {
   "cell_type": "markdown",
   "id": "d401fc8f",
   "metadata": {},
   "source": [
    "Now we run using the new interaction terms."
   ]
  },
  {
   "cell_type": "code",
   "execution_count": 54,
   "id": "9890996a",
   "metadata": {},
   "outputs": [
    {
     "data": {
      "text/plain": [
       "LinearRegression()"
      ]
     },
     "execution_count": 54,
     "metadata": {},
     "output_type": "execute_result"
    }
   ],
   "source": [
    "reg = LinearRegression(copy_X = True)\n",
    "\n",
    "reg.fit(coffee_train[predictors], \n",
    "        coffee_train['rating'])"
   ]
  },
  {
   "cell_type": "code",
   "execution_count": 55,
   "id": "359c7577",
   "metadata": {},
   "outputs": [
    {
     "data": {
      "text/plain": [
       "array([ 1.87369947, -1.66313622,  0.46160642,  0.9248165 ,  0.25857735,\n",
       "        0.09712685,  1.48531515, -0.08362772,  0.12860132,  0.22235085,\n",
       "       -1.50272796,  0.51062645,  0.57258247, -3.54551651,  3.21655595,\n",
       "        1.78287458, -1.22666402,  3.1991997 , -3.4264497 ,  2.33437768,\n",
       "       -1.51671526, -0.00923135,  1.73690226, -1.09926156,  0.03924337,\n",
       "        2.74098872, -2.34624698, -2.41595327,  0.17911238, -3.17123664,\n",
       "        3.51060783])"
      ]
     },
     "execution_count": 55,
     "metadata": {},
     "output_type": "execute_result"
    }
   ],
   "source": [
    "## look at the coefficients for the fit\n",
    "reg.coef_"
   ]
  },
  {
   "cell_type": "code",
   "execution_count": 56,
   "id": "d06a32c4",
   "metadata": {},
   "outputs": [],
   "source": [
    "## make the predictions\n",
    "preds = reg.predict(coffee_train[predictors])\n",
    "preds_baseline = baseline * np.ones(len(coffee_train))"
   ]
  },
  {
   "cell_type": "code",
   "execution_count": 57,
   "id": "4379adeb",
   "metadata": {},
   "outputs": [
    {
     "name": "stdout",
     "output_type": "stream",
     "text": [
      "The mean squared error for multiple linear regression is 9.57993448241745\n",
      "The mean squared error for the baseline is 15.565458489578745\n"
     ]
    }
   ],
   "source": [
    "## check the mean squared error\n",
    "mse = mean_squared_error(coffee_train['rating'], preds)\n",
    "mse_baseline = mean_squared_error(coffee_train['rating'], preds_baseline)\n",
    "print(\"The mean squared error for multiple linear regression is\", mse)\n",
    "print(\"The mean squared error for the baseline is\", mse_baseline)"
   ]
  }
 ],
 "metadata": {
  "kernelspec": {
   "display_name": "Python 3",
   "language": "python",
   "name": "python3"
  },
  "language_info": {
   "codemirror_mode": {
    "name": "ipython",
    "version": 3
   },
   "file_extension": ".py",
   "mimetype": "text/x-python",
   "name": "python",
   "nbconvert_exporter": "python",
   "pygments_lexer": "ipython3",
   "version": "3.8.8"
  }
 },
 "nbformat": 4,
 "nbformat_minor": 5
}
