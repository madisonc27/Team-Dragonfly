{
 "cells": [
  {
   "cell_type": "markdown",
   "id": "5881a50c",
   "metadata": {},
   "source": [
    "## Data Cleaning"
   ]
  },
  {
   "cell_type": "markdown",
   "id": "666deb13-0cf5-44c3-b480-031b2a87f628",
   "metadata": {},
   "source": [
    "Import some basic packages"
   ]
  },
  {
   "cell_type": "code",
   "execution_count": 1,
   "id": "10171c26",
   "metadata": {},
   "outputs": [],
   "source": [
    "import pandas as pd\n",
    "import numpy as np"
   ]
  },
  {
   "cell_type": "markdown",
   "id": "6085a715",
   "metadata": {},
   "source": [
    "Now let's load up the second coffee data"
   ]
  },
  {
   "cell_type": "code",
   "execution_count": 2,
   "id": "b9bbac73",
   "metadata": {},
   "outputs": [],
   "source": [
    "coffee_df = pd.read_csv('../data/coffee.csv', index_col=[0])"
   ]
  },
  {
   "cell_type": "markdown",
   "id": "da9b7816",
   "metadata": {},
   "source": [
    "Creating a copy of the original"
   ]
  },
  {
   "cell_type": "code",
   "execution_count": 3,
   "id": "dd9a9103",
   "metadata": {},
   "outputs": [],
   "source": [
    "coffee = coffee_df.copy().reset_index()"
   ]
  },
  {
   "cell_type": "markdown",
   "id": "bde4b434-3d0e-4979-9d30-b0e810d27243",
   "metadata": {},
   "source": [
    "Take a glimpse of the data"
   ]
  },
  {
   "cell_type": "code",
   "execution_count": 4,
   "id": "f09fb90f-6a89-460c-b4b7-3d1f773f85dd",
   "metadata": {},
   "outputs": [
    {
     "data": {
      "text/html": [
       "<div>\n",
       "<style scoped>\n",
       "    .dataframe tbody tr th:only-of-type {\n",
       "        vertical-align: middle;\n",
       "    }\n",
       "\n",
       "    .dataframe tbody tr th {\n",
       "        vertical-align: top;\n",
       "    }\n",
       "\n",
       "    .dataframe thead th {\n",
       "        text-align: right;\n",
       "    }\n",
       "</style>\n",
       "<table border=\"1\" class=\"dataframe\">\n",
       "  <thead>\n",
       "    <tr style=\"text-align: right;\">\n",
       "      <th></th>\n",
       "      <th>all_text</th>\n",
       "      <th>name</th>\n",
       "      <th>rating</th>\n",
       "      <th>roaster</th>\n",
       "      <th>slug</th>\n",
       "      <th>region_africa_arabia</th>\n",
       "      <th>region_caribbean</th>\n",
       "      <th>region_central_america</th>\n",
       "      <th>region_hawaii</th>\n",
       "      <th>region_asia_pacific</th>\n",
       "      <th>...</th>\n",
       "      <th>aroma</th>\n",
       "      <th>acid</th>\n",
       "      <th>body</th>\n",
       "      <th>flavor</th>\n",
       "      <th>aftertaste</th>\n",
       "      <th>with_milk</th>\n",
       "      <th>desc_1</th>\n",
       "      <th>desc_2</th>\n",
       "      <th>desc_3</th>\n",
       "      <th>desc_4</th>\n",
       "    </tr>\n",
       "  </thead>\n",
       "  <tbody>\n",
       "    <tr>\n",
       "      <th>0</th>\n",
       "      <td>\\n\\n\\n\\n \\n93\\nFlight Coffee Co.\\nEthiopia Der...</td>\n",
       "      <td>Ethiopia Deri Kochoha</td>\n",
       "      <td>93</td>\n",
       "      <td>Flight Coffee Co.</td>\n",
       "      <td>/review/ethiopia-deri-kochoha-2</td>\n",
       "      <td>1</td>\n",
       "      <td>0</td>\n",
       "      <td>0</td>\n",
       "      <td>0</td>\n",
       "      <td>0</td>\n",
       "      <td>...</td>\n",
       "      <td>9.0</td>\n",
       "      <td>8.0</td>\n",
       "      <td>9.0</td>\n",
       "      <td>9.0</td>\n",
       "      <td>8.0</td>\n",
       "      <td>NaN</td>\n",
       "      <td>Bright, crisp, sweetly tart. Citrus medley, ca...</td>\n",
       "      <td>From the Deri Kochoha mill in the Hagere Marya...</td>\n",
       "      <td>A poised and melodic wet-processed Ethiopia co...</td>\n",
       "      <td>NaN</td>\n",
       "    </tr>\n",
       "    <tr>\n",
       "      <th>1</th>\n",
       "      <td>\\n\\n\\n\\n\\n91\\nDoi Chaang Coffee\\nEspresso\\nLoc...</td>\n",
       "      <td>Espresso</td>\n",
       "      <td>91</td>\n",
       "      <td>Doi Chaang Coffee</td>\n",
       "      <td>/review/espresso-14</td>\n",
       "      <td>0</td>\n",
       "      <td>0</td>\n",
       "      <td>0</td>\n",
       "      <td>0</td>\n",
       "      <td>1</td>\n",
       "      <td>...</td>\n",
       "      <td>8.0</td>\n",
       "      <td>NaN</td>\n",
       "      <td>8.0</td>\n",
       "      <td>8.0</td>\n",
       "      <td>8.0</td>\n",
       "      <td>9.0</td>\n",
       "      <td>Evaluated as espresso. Deeply rich, sweetly ro...</td>\n",
       "      <td>Doi Chaang is a single-estate coffee produced ...</td>\n",
       "      <td>A rich, resonant espresso from Thailand, espec...</td>\n",
       "      <td>NaN</td>\n",
       "    </tr>\n",
       "    <tr>\n",
       "      <th>2</th>\n",
       "      <td>\\n\\n\\n\\n \\n95\\nTemple Coffee and Tea\\nKenya Ru...</td>\n",
       "      <td>Kenya Ruthaka Peaberry</td>\n",
       "      <td>95</td>\n",
       "      <td>Temple Coffee and Tea</td>\n",
       "      <td>/review/kenya-ruthaka-peaberry</td>\n",
       "      <td>1</td>\n",
       "      <td>0</td>\n",
       "      <td>0</td>\n",
       "      <td>0</td>\n",
       "      <td>0</td>\n",
       "      <td>...</td>\n",
       "      <td>9.0</td>\n",
       "      <td>8.0</td>\n",
       "      <td>9.0</td>\n",
       "      <td>10.0</td>\n",
       "      <td>8.0</td>\n",
       "      <td>NaN</td>\n",
       "      <td>Deeply sweet, richly savory. Dark chocolate, p...</td>\n",
       "      <td>Despite challenges ranging from contested gove...</td>\n",
       "      <td>A high-toned, nuanced Kenya cup, classic in it...</td>\n",
       "      <td>NaN</td>\n",
       "    </tr>\n",
       "  </tbody>\n",
       "</table>\n",
       "<p>3 rows × 34 columns</p>\n",
       "</div>"
      ],
      "text/plain": [
       "                                            all_text                    name  \\\n",
       "0  \\n\\n\\n\\n \\n93\\nFlight Coffee Co.\\nEthiopia Der...   Ethiopia Deri Kochoha   \n",
       "1  \\n\\n\\n\\n\\n91\\nDoi Chaang Coffee\\nEspresso\\nLoc...                Espresso   \n",
       "2  \\n\\n\\n\\n \\n95\\nTemple Coffee and Tea\\nKenya Ru...  Kenya Ruthaka Peaberry   \n",
       "\n",
       "  rating                roaster                             slug  \\\n",
       "0     93      Flight Coffee Co.  /review/ethiopia-deri-kochoha-2   \n",
       "1     91      Doi Chaang Coffee              /review/espresso-14   \n",
       "2     95  Temple Coffee and Tea   /review/kenya-ruthaka-peaberry   \n",
       "\n",
       "   region_africa_arabia  region_caribbean  region_central_america  \\\n",
       "0                     1                 0                       0   \n",
       "1                     0                 0                       0   \n",
       "2                     1                 0                       0   \n",
       "\n",
       "   region_hawaii  region_asia_pacific  ...  aroma  acid  body  flavor  \\\n",
       "0              0                    0  ...    9.0   8.0   9.0     9.0   \n",
       "1              0                    1  ...    8.0   NaN   8.0     8.0   \n",
       "2              0                    0  ...    9.0   8.0   9.0    10.0   \n",
       "\n",
       "   aftertaste  with_milk                                             desc_1  \\\n",
       "0         8.0        NaN  Bright, crisp, sweetly tart. Citrus medley, ca...   \n",
       "1         8.0        9.0  Evaluated as espresso. Deeply rich, sweetly ro...   \n",
       "2         8.0        NaN  Deeply sweet, richly savory. Dark chocolate, p...   \n",
       "\n",
       "                                              desc_2  \\\n",
       "0  From the Deri Kochoha mill in the Hagere Marya...   \n",
       "1  Doi Chaang is a single-estate coffee produced ...   \n",
       "2  Despite challenges ranging from contested gove...   \n",
       "\n",
       "                                              desc_3 desc_4  \n",
       "0  A poised and melodic wet-processed Ethiopia co...    NaN  \n",
       "1  A rich, resonant espresso from Thailand, espec...    NaN  \n",
       "2  A high-toned, nuanced Kenya cup, classic in it...    NaN  \n",
       "\n",
       "[3 rows x 34 columns]"
      ]
     },
     "metadata": {},
     "output_type": "display_data"
    },
    {
     "name": "stdout",
     "output_type": "stream",
     "text": [
      "The shape of coffee is  (5124, 34)\n"
     ]
    }
   ],
   "source": [
    "display(coffee[:3])\n",
    "print('The shape of coffee is ', coffee.shape)"
   ]
  },
  {
   "cell_type": "markdown",
   "id": "5635b2cb",
   "metadata": {},
   "source": [
    "Now we remove the columns that we are not interested in."
   ]
  },
  {
   "cell_type": "code",
   "execution_count": 5,
   "id": "c499ad6f",
   "metadata": {},
   "outputs": [
    {
     "data": {
      "text/plain": [
       "Index(['all_text', 'name', 'rating', 'roaster', 'slug', 'region_africa_arabia',\n",
       "       'region_caribbean', 'region_central_america', 'region_hawaii',\n",
       "       'region_asia_pacific', 'region_south_america', 'type_espresso',\n",
       "       'type_organic', 'type_fair_trade', 'type_decaffeinated',\n",
       "       'type_pod_capsule', 'type_blend', 'type_estate', 'location', 'origin',\n",
       "       'roast', 'est_price', 'review_date', 'agtron', 'aroma', 'acid', 'body',\n",
       "       'flavor', 'aftertaste', 'with_milk', 'desc_1', 'desc_2', 'desc_3',\n",
       "       'desc_4'],\n",
       "      dtype='object')"
      ]
     },
     "execution_count": 5,
     "metadata": {},
     "output_type": "execute_result"
    }
   ],
   "source": [
    "coffee.columns"
   ]
  },
  {
   "cell_type": "code",
   "execution_count": 6,
   "id": "faf1b341",
   "metadata": {},
   "outputs": [],
   "source": [
    "Unwanted = ['all_text', 'name', 'roaster', 'slug', 'origin', 'est_price', 'location',\n",
    "            'agtron', 'with_milk', 'desc_1', 'desc_2', 'desc_3', 'desc_4']"
   ]
  },
  {
   "cell_type": "code",
   "execution_count": 7,
   "id": "c8240df5",
   "metadata": {},
   "outputs": [
    {
     "name": "stdout",
     "output_type": "stream",
     "text": [
      "The shape of coffee is  (5124, 21)\n"
     ]
    }
   ],
   "source": [
    "for categ in Unwanted:\n",
    "    coffee.drop(categ, inplace = True, axis = 1)\n",
    "print('The shape of coffee is ', coffee.shape)"
   ]
  },
  {
   "cell_type": "markdown",
   "id": "f487c685-15ce-4ed6-bdf0-0a904b882d72",
   "metadata": {},
   "source": [
    "Determine the percentage of the missing values within each feature. "
   ]
  },
  {
   "cell_type": "code",
   "execution_count": 8,
   "id": "a557ee24-4579-48ed-8acd-26602fe655d7",
   "metadata": {},
   "outputs": [
    {
     "data": {
      "text/html": [
       "<div>\n",
       "<style scoped>\n",
       "    .dataframe tbody tr th:only-of-type {\n",
       "        vertical-align: middle;\n",
       "    }\n",
       "\n",
       "    .dataframe tbody tr th {\n",
       "        vertical-align: top;\n",
       "    }\n",
       "\n",
       "    .dataframe thead th {\n",
       "        text-align: right;\n",
       "    }\n",
       "</style>\n",
       "<table border=\"1\" class=\"dataframe\">\n",
       "  <thead>\n",
       "    <tr style=\"text-align: right;\">\n",
       "      <th></th>\n",
       "      <th>null%</th>\n",
       "    </tr>\n",
       "  </thead>\n",
       "  <tbody>\n",
       "    <tr>\n",
       "      <th>rating</th>\n",
       "      <td>0.000000</td>\n",
       "    </tr>\n",
       "    <tr>\n",
       "      <th>region_africa_arabia</th>\n",
       "      <td>0.000000</td>\n",
       "    </tr>\n",
       "    <tr>\n",
       "      <th>region_caribbean</th>\n",
       "      <td>0.000000</td>\n",
       "    </tr>\n",
       "    <tr>\n",
       "      <th>region_central_america</th>\n",
       "      <td>0.000000</td>\n",
       "    </tr>\n",
       "    <tr>\n",
       "      <th>region_hawaii</th>\n",
       "      <td>0.000000</td>\n",
       "    </tr>\n",
       "    <tr>\n",
       "      <th>region_asia_pacific</th>\n",
       "      <td>0.000000</td>\n",
       "    </tr>\n",
       "    <tr>\n",
       "      <th>region_south_america</th>\n",
       "      <td>0.000000</td>\n",
       "    </tr>\n",
       "    <tr>\n",
       "      <th>type_espresso</th>\n",
       "      <td>0.000000</td>\n",
       "    </tr>\n",
       "    <tr>\n",
       "      <th>type_organic</th>\n",
       "      <td>0.000000</td>\n",
       "    </tr>\n",
       "    <tr>\n",
       "      <th>type_fair_trade</th>\n",
       "      <td>0.000000</td>\n",
       "    </tr>\n",
       "    <tr>\n",
       "      <th>type_decaffeinated</th>\n",
       "      <td>0.000000</td>\n",
       "    </tr>\n",
       "    <tr>\n",
       "      <th>type_pod_capsule</th>\n",
       "      <td>0.000000</td>\n",
       "    </tr>\n",
       "    <tr>\n",
       "      <th>type_blend</th>\n",
       "      <td>0.000000</td>\n",
       "    </tr>\n",
       "    <tr>\n",
       "      <th>type_estate</th>\n",
       "      <td>0.000000</td>\n",
       "    </tr>\n",
       "    <tr>\n",
       "      <th>roast</th>\n",
       "      <td>8.352849</td>\n",
       "    </tr>\n",
       "    <tr>\n",
       "      <th>review_date</th>\n",
       "      <td>0.000000</td>\n",
       "    </tr>\n",
       "    <tr>\n",
       "      <th>aroma</th>\n",
       "      <td>0.761124</td>\n",
       "    </tr>\n",
       "    <tr>\n",
       "      <th>acid</th>\n",
       "      <td>16.939891</td>\n",
       "    </tr>\n",
       "    <tr>\n",
       "      <th>body</th>\n",
       "      <td>0.253708</td>\n",
       "    </tr>\n",
       "    <tr>\n",
       "      <th>flavor</th>\n",
       "      <td>0.351288</td>\n",
       "    </tr>\n",
       "    <tr>\n",
       "      <th>aftertaste</th>\n",
       "      <td>19.769711</td>\n",
       "    </tr>\n",
       "  </tbody>\n",
       "</table>\n",
       "</div>"
      ],
      "text/plain": [
       "                            null%\n",
       "rating                   0.000000\n",
       "region_africa_arabia     0.000000\n",
       "region_caribbean         0.000000\n",
       "region_central_america   0.000000\n",
       "region_hawaii            0.000000\n",
       "region_asia_pacific      0.000000\n",
       "region_south_america     0.000000\n",
       "type_espresso            0.000000\n",
       "type_organic             0.000000\n",
       "type_fair_trade          0.000000\n",
       "type_decaffeinated       0.000000\n",
       "type_pod_capsule         0.000000\n",
       "type_blend               0.000000\n",
       "type_estate              0.000000\n",
       "roast                    8.352849\n",
       "review_date              0.000000\n",
       "aroma                    0.761124\n",
       "acid                    16.939891\n",
       "body                     0.253708\n",
       "flavor                   0.351288\n",
       "aftertaste              19.769711"
      ]
     },
     "execution_count": 8,
     "metadata": {},
     "output_type": "execute_result"
    }
   ],
   "source": [
    "cols = coffee.columns\n",
    "coffee[cols].isna().sum().values/coffee[cols].shape[0]*100\n",
    "\n",
    "df_null = pd.DataFrame({\n",
    "    'null%' : coffee[cols].isna().sum().values/coffee[cols].shape[0]*100},\n",
    "    index = cols)\n",
    "\n",
    "df_null"
   ]
  },
  {
   "cell_type": "markdown",
   "id": "58217f6a-efd2-44b8-a199-a5246dfec0e0",
   "metadata": {},
   "source": [
    "We decide to drop `acid` and `aftertaste` since their high null rate."
   ]
  },
  {
   "cell_type": "code",
   "execution_count": 9,
   "id": "bb0b56d6-eb09-43fe-bef4-b9e72bde6920",
   "metadata": {},
   "outputs": [],
   "source": [
    "coffee.drop(['acid', 'aftertaste'], inplace = True, axis = 1)"
   ]
  },
  {
   "cell_type": "markdown",
   "id": "97309c85-1f5e-465b-9268-ddd507b76755",
   "metadata": {},
   "source": [
    "Drop the rows where `roast` or `aroma` or `body` or `flavor` contain Null values."
   ]
  },
  {
   "cell_type": "code",
   "execution_count": 10,
   "id": "a7b8550c-1ea9-4cf9-b315-af243da53f9a",
   "metadata": {},
   "outputs": [
    {
     "name": "stdout",
     "output_type": "stream",
     "text": [
      "The shape of coffee is  (4680, 19)\n"
     ]
    }
   ],
   "source": [
    "coffee = coffee[coffee['roast'].notna() & coffee['aroma'].notna() & coffee['body'].notna() & coffee['flavor'].notna()]\n",
    "print('The shape of coffee is ', coffee.shape)"
   ]
  },
  {
   "cell_type": "markdown",
   "id": "ad4ddf3d-df1f-4f26-ade1-f556e13e0473",
   "metadata": {},
   "source": [
    "Adjust the type of each feature in the data and convert one-hot encoding back to a categorical column (region)."
   ]
  },
  {
   "cell_type": "code",
   "execution_count": 13,
   "id": "1dc66f67-1159-4f37-a1d7-205061da1a48",
   "metadata": {},
   "outputs": [],
   "source": [
    "coffee['region'] = (coffee.iloc[:, 1:6] == 1).idxmax(1)\n",
    "to_convert = ['type_espresso', 'type_organic', 'type_fair_trade', 'type_blend',\n",
    "              'type_decaffeinated', 'type_pod_capsule', 'type_estate']\n",
    "coffee[to_convert] = coffee[to_convert].astype('category')\n",
    "coffee['rating'] = pd.to_numeric(coffee['rating'], errors='coerce')"
   ]
  },
  {
   "cell_type": "code",
   "execution_count": 14,
   "id": "4a39b70f-8266-4972-94dd-9598e3a63620",
   "metadata": {},
   "outputs": [
    {
     "data": {
      "text/plain": [
       "rating                     float64\n",
       "region_africa_arabia         int64\n",
       "region_caribbean             int64\n",
       "region_central_america       int64\n",
       "region_hawaii                int64\n",
       "region_asia_pacific          int64\n",
       "region_south_america         int64\n",
       "type_espresso             category\n",
       "type_organic              category\n",
       "type_fair_trade           category\n",
       "type_decaffeinated        category\n",
       "type_pod_capsule          category\n",
       "type_blend                category\n",
       "type_estate               category\n",
       "roast                       object\n",
       "review_date                 object\n",
       "aroma                      float64\n",
       "body                       float64\n",
       "flavor                     float64\n",
       "region                      object\n",
       "dtype: object"
      ]
     },
     "execution_count": 14,
     "metadata": {},
     "output_type": "execute_result"
    }
   ],
   "source": [
    "coffee.dtypes"
   ]
  },
  {
   "cell_type": "markdown",
   "id": "c35903d3",
   "metadata": {},
   "source": [
    "Finally, we save the file."
   ]
  },
  {
   "cell_type": "code",
   "execution_count": 15,
   "id": "435abfe6",
   "metadata": {},
   "outputs": [],
   "source": [
    "coffee.to_csv('../data/coffee_after_cleaning.csv', index = False)"
   ]
  },
  {
   "cell_type": "code",
   "execution_count": null,
   "id": "434e11e6-843d-42a3-872c-8368395b6480",
   "metadata": {},
   "outputs": [],
   "source": []
  }
 ],
 "metadata": {
  "kernelspec": {
   "display_name": "Python 3 (ipykernel)",
   "language": "python",
   "name": "python3"
  },
  "language_info": {
   "codemirror_mode": {
    "name": "ipython",
    "version": 3
   },
   "file_extension": ".py",
   "mimetype": "text/x-python",
   "name": "python",
   "nbconvert_exporter": "python",
   "pygments_lexer": "ipython3",
   "version": "3.9.5"
  }
 },
 "nbformat": 4,
 "nbformat_minor": 5
}
