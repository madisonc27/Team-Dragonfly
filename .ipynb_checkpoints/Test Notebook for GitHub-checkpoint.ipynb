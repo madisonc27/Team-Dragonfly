{
 "cells": [
  {
   "cell_type": "markdown",
   "id": "37939818",
   "metadata": {},
   "source": [
    "Creating a test file to see if I can upload to a GitHub Repository."
   ]
  },
  {
   "cell_type": "markdown",
   "id": "8753095a",
   "metadata": {},
   "source": [
    "Now I'm adding additional text to see how Git handles changes for a new commit."
   ]
  },
  {
   "cell_type": "markdown",
   "id": "617ce6b7",
   "metadata": {},
   "source": [
    "Now I'm going to put this document on a branch and see what happens."
   ]
  },
  {
   "cell_type": "code",
   "execution_count": null,
   "id": "80ccdd60",
   "metadata": {},
   "outputs": [],
   "source": []
  }
 ],
 "metadata": {
  "kernelspec": {
   "display_name": "Python 3 (ipykernel)",
   "language": "python",
   "name": "python3"
  },
  "language_info": {
   "codemirror_mode": {
    "name": "ipython",
    "version": 3
   },
   "file_extension": ".py",
   "mimetype": "text/x-python",
   "name": "python",
   "nbconvert_exporter": "python",
   "pygments_lexer": "ipython3",
   "version": "3.9.7"
  }
 },
 "nbformat": 4,
 "nbformat_minor": 5
}
