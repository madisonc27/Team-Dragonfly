{
 "cells": [
  {
   "cell_type": "markdown",
   "id": "f6cf7db4",
   "metadata": {},
   "source": [
    "# Problem Session 10\n",
    "## Classifying Cancer IV\n",
    "\n",
    "This notebook will be the final time you work with the cancer data set that can be found here, <a href=\"https://archive.ics.uci.edu/ml/datasets/Breast+Cancer+Wisconsin+%28Diagnostic%29\">https://archive.ics.uci.edu/ml/datasets/Breast+Cancer+Wisconsin+%28Diagnostic%29</a>. \n",
    "\n",
    "\n",
    "The problems in this notebook will cover the content covered in some of our `Classification`, `Dimension Reduction` and our `Ensemble Learning` notebooks. In particular we will cover content touched on in."
   ]
  },
  {
   "cell_type": "code",
   "execution_count": 1,
   "id": "fb4bdd5b",
   "metadata": {},
   "outputs": [],
   "source": [
    "import pandas as pd\n",
    "import numpy as np\n",
    "import matplotlib.pyplot as plt\n",
    "import seaborn as sns\n",
    "\n",
    "sns.set_style(\"darkgrid\")"
   ]
  },
  {
   "cell_type": "markdown",
   "id": "ca8701a5",
   "metadata": {},
   "source": [
    "##### 1. Load, train test split\n",
    "\n",
    "First load the data then make a train test split."
   ]
  },
  {
   "cell_type": "code",
   "execution_count": 2,
   "id": "43fe12be",
   "metadata": {},
   "outputs": [],
   "source": [
    "coffee_df = pd.read_csv('data/coffee2.csv')"
   ]
  },
  {
   "cell_type": "code",
   "execution_count": 5,
   "id": "be3fd84e",
   "metadata": {},
   "outputs": [],
   "source": [
    "coffee = coffee_df.copy()"
   ]
  },
  {
   "cell_type": "code",
   "execution_count": 9,
   "id": "5edaa0bf",
   "metadata": {},
   "outputs": [],
   "source": [
    "predictors = ['Aroma', 'Flavor',\n",
    "       'Aftertaste', 'Acidity', 'Body', 'Balance', 'Uniformity', 'Clean_Cup',\n",
    "       'Sweetness', 'Cupper_Points']"
   ]
  },
  {
   "cell_type": "code",
   "execution_count": 3,
   "id": "69028ca5",
   "metadata": {},
   "outputs": [],
   "source": [
    "from sklearn.model_selection import train_test_split"
   ]
  },
  {
   "cell_type": "code",
   "execution_count": 6,
   "id": "bf38f8d4",
   "metadata": {},
   "outputs": [],
   "source": [
    "## Make the split\n",
    "coffee_train, coffee_test = train_test_split(coffee.copy(),\n",
    "                                            shuffle=True,\n",
    "                                            random_state=47,\n",
    "                                            test_size=.2,\n",
    "                                            stratify=coffee['Country_of_Origin'])"
   ]
  },
  {
   "cell_type": "code",
   "execution_count": 14,
   "id": "78dc3bfe",
   "metadata": {},
   "outputs": [],
   "source": [
    "labels = coffee.Country_of_Origin.value_counts().index"
   ]
  },
  {
   "cell_type": "markdown",
   "id": "1f4b8b63",
   "metadata": {},
   "source": [
    "##### 3. A Baseline.\n",
    "\n",
    "A common baseline for classification is just randomly guessing, i.e. a biased coin flip where the probability of heads is equal to the probability of being class $1$.\n",
    "\n",
    "Use the training set to get an estimate of the TPR, FPR and precision of such a model. \n",
    "\n",
    "<i>Note: a point estimate is fine for this problem. No need to estimate over several runs and get an average.</i>"
   ]
  },
  {
   "cell_type": "markdown",
   "id": "a5de63b1",
   "metadata": {},
   "source": [
    "##### Sample Solution"
   ]
  },
  {
   "cell_type": "code",
   "execution_count": 15,
   "id": "3c329ff3",
   "metadata": {},
   "outputs": [],
   "source": [
    "from sklearn.metrics import confusion_matrix, precision_score, accuracy_score"
   ]
  },
  {
   "cell_type": "markdown",
   "id": "4512cba4",
   "metadata": {},
   "source": [
    "##### 4. AdaBoost\n",
    "\n",
    "Now try to build an adaptive boosting classifier on these data.\n",
    "\n",
    "Use cross-validation to determine the optimal value for `n_estimators` for an `AdaBoostClassifier` using a `DecisionTreeClassifier` with `max_depth=2` as its base estimator. Set the `learning_rate=1` in the `AdaBoostClassifier`.\n",
    "\n",
    "To help save you some time I have provided most of the cross-validation code for you and have commented portions where you will need to fill in to get to your answer."
   ]
  },
  {
   "cell_type": "code",
   "execution_count": 16,
   "id": "7a5ae8bd",
   "metadata": {},
   "outputs": [],
   "source": [
    "# import the appropriate items here\n",
    "from sklearn.ensemble import AdaBoostClassifier\n",
    "from sklearn.tree import DecisionTreeClassifier\n",
    "from sklearn.model_selection import StratifiedKFold\n",
    "from sklearn.metrics import roc_auc_score"
   ]
  },
  {
   "cell_type": "code",
   "execution_count": 17,
   "id": "c5d935de",
   "metadata": {},
   "outputs": [
    {
     "name": "stdout",
     "output_type": "stream",
     "text": [
      "0\n",
      "1\n",
      "2\n",
      "3\n",
      "4\n"
     ]
    }
   ],
   "source": [
    "## We'll search from 1 to 100 weak learners\n",
    "num_learners = range(1,101)\n",
    "\n",
    "## Make an array to hold your cross validation results here\n",
    "ada_acc = np.zeros((5, len(num_learners)))\n",
    "\n",
    "\n",
    "## fill in the code for a 5-fold cross-validation object here\n",
    "kfold = StratifiedKFold(5, shuffle=True, random_state=47)\n",
    "\n",
    "\n",
    "i=0\n",
    "for train_index, test_index in kfold.split(coffee_train[predictors], coffee_train.Country_of_Origin):\n",
    "    # this will help you keep track of what kfold split you are on\n",
    "    print(i)\n",
    "    \n",
    "    # this gets the training and holdout sets\n",
    "    X_tt = coffee_train[predictors].iloc[train_index,:]\n",
    "    y_tt = coffee_train.Country_of_Origin.iloc[train_index]\n",
    "    X_ho = coffee_train[predictors].iloc[test_index,:]\n",
    "    y_ho = coffee_train.Country_of_Origin.iloc[test_index]\n",
    "    \n",
    "    # here we loop through the different values for n_estimators\n",
    "    for j in num_learners:\n",
    "        # make the AdaBoostClassifier object here\n",
    "        ada = AdaBoostClassifier(DecisionTreeClassifier(max_depth=2, random_state=223), \n",
    "                                 n_estimators=j, \n",
    "                                 learning_rate=1)\n",
    "        \n",
    "        # fit that object here\n",
    "        ada.fit(X_tt.values, y_tt)\n",
    "        \n",
    "        # get the prediction on the holdout data\n",
    "        pred = ada.predict(X_ho.values)\n",
    "\n",
    "        ada_acc[i,j-1] = accuracy_score(y_ho, pred)\n",
    "\n",
    "        j = j + 1\n",
    "    i = i + 1"
   ]
  },
  {
   "cell_type": "code",
   "execution_count": 19,
   "id": "cba731a5",
   "metadata": {},
   "outputs": [
    {
     "data": {
      "image/png": "[encoded data removed]",
      "text/plain": [
       "<Figure size 720x576 with 1 Axes>"
      ]
     },
     "metadata": {},
     "output_type": "display_data"
    }
   ],
   "source": [
    "## Making the figure\n",
    "plt.figure(figsize=(10,8))\n",
    "\n",
    "## Accuracy\n",
    "plt.plot(num_learners, np.mean(ada_acc, axis=0), '-o')\n",
    "plt.ylabel(\"Accuracy\", fontsize=16)\n",
    "\n",
    "plt.xlabel(\"Number of weak learners\", fontsize=16)\n",
    "plt.xticks(np.arange(0,110,10))\n",
    "\n",
    "plt.show()"
   ]
  },
  {
   "cell_type": "markdown",
   "id": "280d1b25",
   "metadata": {},
   "source": [
    "<i>How many weak learners would you choose for this model?</i>"
   ]
  },
  {
   "cell_type": "markdown",
   "id": "8f757dda",
   "metadata": {},
   "source": [
    "##### Sample Answer\n",
    "\n",
    "$90$ seems reasonable enough."
   ]
  },
  {
   "cell_type": "markdown",
   "id": "5e6b8d5b",
   "metadata": {},
   "source": [
    "##### 5. Comparing different models\n",
    "\n",
    "Use $5$-fold cross-validation to compare the following models:\n",
    "- A pipeline that runs the data through PCA with an explained variance ratio of `0.85` and then a $k$NN model with $k = 5$,\n",
    "- A random forest model with `n_estimators=500`, `max_samples=200` and `max_depth=5`,\n",
    "- A pipeline that runs the data through PCA with an explained variance ratio of `0.90` and then a support vector machine with the `rbf` kernel and `C=1`,\n",
    "- The AdaBoost model you selected from 5. above and\n",
    "- A voter model consisting of the four previous models.\n",
    "\n",
    "Again I will provide some shell code for you to fill in the blanks to help speed things along."
   ]
  },
  {
   "cell_type": "markdown",
   "id": "e1f088d5",
   "metadata": {},
   "source": [
    "##### Sample Solution"
   ]
  },
  {
   "cell_type": "code",
   "execution_count": 20,
   "id": "12028378",
   "metadata": {},
   "outputs": [],
   "source": [
    "## import things here\n",
    "from sklearn.ensemble import RandomForestClassifier, VotingClassifier\n",
    "from sklearn.decomposition import PCA\n",
    "from sklearn.preprocessing import StandardScaler\n",
    "from sklearn.svm import SVC\n",
    "from sklearn.pipeline import Pipeline\n",
    "from sklearn.neighbors import KNeighborsClassifier"
   ]
  },
  {
   "cell_type": "code",
   "execution_count": 22,
   "id": "6eab5be4",
   "metadata": {},
   "outputs": [],
   "source": [
    "cv_acc = np.zeros((5, 5))\n",
    "\n",
    "## fill in the code for a 5-fold cross-validation object here\n",
    "kfold = StratifiedKFold(5, shuffle=True, random_state=47)\n",
    "\n",
    "\n",
    "i=0\n",
    "for train_index, test_index in kfold.split(coffee_train[predictors], coffee_train.Country_of_Origin):\n",
    "    # this gets the training and holdout sets\n",
    "    X_tt = coffee_train[predictors].iloc[train_index,:]\n",
    "    y_tt = coffee_train.Country_of_Origin.iloc[train_index]\n",
    "    X_ho = coffee_train[predictors].iloc[test_index,:]\n",
    "    y_ho = coffee_train.Country_of_Origin.iloc[test_index]\n",
    "    \n",
    "    ### Making Model Objects ###\n",
    "    ## Make the knn model\n",
    "    knn_pipe = Pipeline([('scale', StandardScaler()),\n",
    "                            ('pca', PCA(.85)),\n",
    "                            ('knn', KNeighborsClassifier(5))])\n",
    "    \n",
    "    ## Make the random forest model\n",
    "    rf = RandomForestClassifier(n_estimators = 1500,\n",
    "                                   max_depth = 5,\n",
    "                                   max_samples = 200,\n",
    "                                   random_state = 330)\n",
    "    \n",
    "    ## Make the SVM model\n",
    "    svc_pipe = Pipeline([('scale', StandardScaler()),\n",
    "                            ('pca', PCA(.9)),\n",
    "                            ('knn', SVC(kernel='rbf'))])\n",
    "    \n",
    "    ## Make the adaboost model\n",
    "    ada = AdaBoostClassifier(DecisionTreeClassifier(max_depth=2, random_state=223), \n",
    "                                 n_estimators=90, \n",
    "                                 learning_rate=1)\n",
    "    \n",
    "    ## Make the voting Model\n",
    "    vote = VotingClassifier([('knn', Pipeline([('scale', StandardScaler()),\n",
    "                                                ('pca', PCA(.85)),\n",
    "                                                ('knn', KNeighborsClassifier(5))])),\n",
    "                                ('rf', RandomForestClassifier(n_estimators = 1500,\n",
    "                                                                   max_depth = 5,\n",
    "                                                                   max_samples = 200,\n",
    "                                                                   random_state = 330)),\n",
    "                                ('svc', Pipeline([('scale', StandardScaler()),\n",
    "                                                    ('pca', PCA(.9)),\n",
    "                                                    ('knn', SVC(kernel='rbf'))])),\n",
    "                                ('ada', AdaBoostClassifier(DecisionTreeClassifier(max_depth=2, \n",
    "                                                                                  random_state=223), \n",
    "                                                             n_estimators=90, \n",
    "                                                             learning_rate=1))])\n",
    "    \n",
    "    ### Train Model objects ###\n",
    "    knn_pipe.fit(X_tt.values, y_tt)\n",
    "    rf.fit(X_tt.values, y_tt)\n",
    "    svc_pipe.fit(X_tt.values, y_tt)\n",
    "    ada.fit(X_tt.values, y_tt)\n",
    "    vote.fit(X_tt.values, y_tt)\n",
    "    \n",
    "    ### Get the predictions ###\n",
    "    knn_pred = knn_pipe.predict(X_ho.values)\n",
    "    rf_pred = rf.predict(X_ho.values)\n",
    "    svc_pred = svc_pipe.predict(X_ho.values)\n",
    "    ada_pred = ada.predict(X_ho.values)\n",
    "    vote_pred = vote.predict(X_ho.values)\n",
    "    \n",
    "    ### Record the performance ###\n",
    "    cv_acc[i, 0] = accuracy_score(y_ho, knn_pred)\n",
    "    cv_acc[i, 1] = accuracy_score(y_ho, rf_pred)\n",
    "    cv_acc[i, 2] = accuracy_score(y_ho, svc_pred)\n",
    "    cv_acc[i, 3] = accuracy_score(y_ho, ada_pred)\n",
    "    cv_acc[i, 4] = accuracy_score(y_ho, vote_pred)\n",
    "    \n",
    "    \n",
    "\n",
    "\n",
    "    \n",
    "    i = i + 1"
   ]
  },
  {
   "cell_type": "code",
   "execution_count": 28,
   "id": "839d6e26",
   "metadata": {},
   "outputs": [
    {
     "data": {
      "image/png": "[encoded data removed]",
      "text/plain": [
       "<Figure size 864x576 with 1 Axes>"
      ]
     },
     "metadata": {},
     "output_type": "display_data"
    }
   ],
   "source": [
    "plt.figure(figsize=(12,8))\n",
    "\n",
    "## Accuracy\n",
    "for i in range(5):\n",
    "    plt.scatter(np.ones(5)*i+np.random.uniform(low=-.04, high=.04,size=5), cv_acc[:,i], marker='x', c='k', s=60)\n",
    "    \n",
    "plt.scatter(range(5), np.mean(cv_acc, axis=0), c='white', edgecolor='red', s=150, alpha=.7)\n",
    "\n",
    "plt.ylabel(\"Precision\", fontsize=16)\n",
    "\n",
    "\n",
    "plt.xticks([0,1,2,3,4],labels = [\"$k$NN\", \"Random\\nForest\", \"SVC\", \"AdaBoost\", \"Voter\"])\n",
    "\n",
    "plt.xlabel(\"Model\", fontsize=16)\n",
    "\n",
    "\n",
    "\n",
    "plt.show()"
   ]
  },
  {
   "cell_type": "markdown",
   "id": "ea2f0442",
   "metadata": {},
   "source": [
    "<i>Which model do you choose? Why?</i>"
   ]
  },
  {
   "cell_type": "markdown",
   "id": "4fc98737",
   "metadata": {},
   "source": [
    "##### Sample Solution\n",
    "\n",
    "I am inclinded to go with the voter model since it has the highest precision, lowest false positive rate and comparable true positive rate. Note your answer may differ to this one."
   ]
  },
  {
   "cell_type": "markdown",
   "id": "4b322327",
   "metadata": {},
   "source": [
    "##### 6. A return to interpretation\n",
    "\n",
    "Recall from Classifying Cancer I\n",
    "\n",
    "Common questions for diagnostic models concern estimating the probability that an individual does or does not have a disease if the model says (or does not say) they have one. We can estimate such a statistic using Bayes' rule.\n",
    "\n",
    "$$\n",
    "P\\left(\\text{Has Cancer} | \\text{Classified } 1\\right)\n",
    "$$\n",
    "\n",
    "$$\n",
    "= \\frac{P\\left(\\text{Classified } 1 | \\text{Has Cancer} \\right) P\\left( \\text{Has Cancer}  \\right)}{P\\left(\\text{Classified } 1 | \\text{Has Cancer} \\right) P\\left( \\text{Has Cancer}  \\right) + P\\left(\\text{Classified } 1 | \\text{Does Not Have Cancer} \\right) P\\left( \\text{Does Not Have Cancer}  \\right)},\n",
    "$$\n",
    "\n",
    "similarly\n",
    "\n",
    "$$\n",
    "P\\left(\\text{Has Cancer} | \\text{Classified } 0\\right)\n",
    "$$\n",
    "\n",
    "$$\n",
    "= \\frac{P\\left(\\text{Classified } 0 | \\text{Has Cancer} \\right) P\\left( \\text{Has Cancer}  \\right)}{P\\left(\\text{Classified } 0 | \\text{Has Cancer} \\right) P\\left( \\text{Has Cancer}  \\right) + P\\left(\\text{Classified } 0 | \\text{Does Not Have Cancer} \\right) P\\left( \\text{Does Not Have Cancer}  \\right)},\n",
    "$$\n",
    "\n",
    "We can estimate $P\\left(\\text{Classified } 1 | \\text{Has Cancer} \\right)$ with the true positive rate and we can estimate $P(\\text{Has Cancer})$ or $P(\\text{Does Not Have Cancer})$ using the rates from the data.\n",
    "\n",
    "Estimate the true positive and true negative rates for your classifier using cross-validation. Then estimate $P\\left(\\text{Has Cancer} | \\text{Classified } 1\\right)$ and $P\\left(\\text{Has Cancer} | \\text{Classified } 0\\right)$ for your classifier."
   ]
  },
  {
   "cell_type": "markdown",
   "id": "58855a5f",
   "metadata": {},
   "source": [
    "##### Sample Solution"
   ]
  },
  {
   "cell_type": "code",
   "execution_count": 14,
   "id": "3b3483b3",
   "metadata": {},
   "outputs": [],
   "source": [
    "model_tprs = np.zeros(5)\n",
    "model_fprs = np.zeros(5)\n",
    "model_tnrs = np.zeros(5)\n",
    "model_fnrs = np.zeros(5)\n",
    "\n",
    "has_cancer = np.zeros(5)\n",
    "no_cancer = np.zeros(5)\n",
    "\n",
    "i = 0\n",
    "for train_index, test_index in kfold.split(X_train, y_train):\n",
    "    # this gets the training and holdout sets\n",
    "    X_tt = X_train.iloc[train_index]\n",
    "    X_ho = X_train.iloc[test_index]\n",
    "    y_tt = y_train.iloc[train_index]\n",
    "    y_ho = y_train.iloc[test_index]\n",
    "    \n",
    "    \n",
    "    ## Make your model\n",
    "    vote = VotingClassifier([('knn', Pipeline([('scale', StandardScaler()),\n",
    "                                                ('pca', PCA(.85)),\n",
    "                                                ('knn', KNeighborsClassifier(5))])),\n",
    "                                ('rf', RandomForestClassifier(n_estimators = 1500,\n",
    "                                                                   max_depth = 5,\n",
    "                                                                   max_samples = 200,\n",
    "                                                                   random_state = 330)),\n",
    "                                ('svc', Pipeline([('scale', StandardScaler()),\n",
    "                                                    ('pca', PCA(.9)),\n",
    "                                                    ('knn', SVC(kernel='rbf'))])),\n",
    "                                ('ada', AdaBoostClassifier(DecisionTreeClassifier(max_depth=2, \n",
    "                                                                                  random_state=223), \n",
    "                                                             n_estimators=90, \n",
    "                                                             learning_rate=1))])\n",
    "    \n",
    "    ## Record the estimate for the malignant prevalence\n",
    "    has_cancer[i] = np.sum(y_ho==1)/len(y_ho)\n",
    "    no_cancer[i] = np.sum(y_ho==0)/len(y_ho)\n",
    "    \n",
    "    ## Train your model\n",
    "    vote.fit(X_tt.values, y_tt)\n",
    "    \n",
    "    ## Get the prediction for your model\n",
    "    pred = vote.predict(X_ho.values)\n",
    "    \n",
    "    conf_mat = confusion_matrix(y_ho, pred)\n",
    "    \n",
    "    model_tprs[i] = conf_mat[1,1]/(conf_mat[1,0] + conf_mat[1,1])\n",
    "    model_fprs[i] = conf_mat[0,1]/(conf_mat[0,0] + conf_mat[0,1])\n",
    "    model_tnrs[i] = conf_mat[0,0]/(conf_mat[0,0] + conf_mat[0,1])\n",
    "    model_fnrs[i] = conf_mat[1,0]/(conf_mat[1,0] + conf_mat[1,1])\n",
    "    \n",
    "    i = i + 1"
   ]
  },
  {
   "cell_type": "code",
   "execution_count": 15,
   "id": "23bbd42b",
   "metadata": {},
   "outputs": [],
   "source": [
    "p_has_cancer_given_1 = model_tprs*has_cancer/(model_tprs*has_cancer + model_fprs*no_cancer)\n",
    "p_has_cancer_given_0 = model_fnrs*has_cancer/(model_fnrs*has_cancer + model_tnrs*no_cancer)"
   ]
  },
  {
   "cell_type": "code",
   "execution_count": 16,
   "id": "c26d96b4",
   "metadata": {},
   "outputs": [
    {
     "name": "stdout",
     "output_type": "stream",
     "text": [
      "If our classifier says a patient has cancer, we estimate a 0.98823 probability that they actually have cancer.\n",
      "\n",
      "\n",
      "If our classifier says a patient does not have cancer, we estimate a 0.04303 probability that they actually do have cancer.\n"
     ]
    }
   ],
   "source": [
    "print(\"If our classifier says a patient has cancer, we estimate\",\n",
    "      \"a\", np.round(np.mean(p_has_cancer_given_1),5),\n",
    "      \"probability that they actually have cancer.\")\n",
    "\n",
    "print()\n",
    "print()\n",
    "\n",
    "print(\"If our classifier says a patient does not have cancer, we estimate\",\n",
    "      \"a\", np.round(np.mean(p_has_cancer_given_0),5),\n",
    "      \"probability that they actually do have cancer.\")"
   ]
  },
  {
   "cell_type": "markdown",
   "id": "4aa23210",
   "metadata": {},
   "source": [
    "##### 7. Model more\n",
    "\n",
    "Feel free to make more models down below if you would like."
   ]
  },
  {
   "cell_type": "markdown",
   "id": "736a9597",
   "metadata": {},
   "source": [
    "##### 8. Looking at the test set.\n",
    "\n",
    "Once you have a final model that you are pleased with, retrain the model using the entire training set. Then check the TPR, FPR and precision on the test set. How does this compare with what you expected from the cross-validation above?"
   ]
  },
  {
   "cell_type": "code",
   "execution_count": 17,
   "id": "407de115",
   "metadata": {},
   "outputs": [],
   "source": [
    "vote = VotingClassifier([('knn', Pipeline([('scale', StandardScaler()),\n",
    "                                                ('pca', PCA(.85)),\n",
    "                                                ('knn', KNeighborsClassifier(5))])),\n",
    "                                ('rf', RandomForestClassifier(n_estimators = 1500,\n",
    "                                                                   max_depth = 5,\n",
    "                                                                   max_samples = 200,\n",
    "                                                                   random_state = 330)),\n",
    "                                ('svc', Pipeline([('scale', StandardScaler()),\n",
    "                                                    ('pca', PCA(.9)),\n",
    "                                                    ('knn', SVC(kernel='rbf'))])),\n",
    "                                ('ada', AdaBoostClassifier(DecisionTreeClassifier(max_depth=2, \n",
    "                                                                                  random_state=223), \n",
    "                                                             n_estimators=90, \n",
    "                                                             learning_rate=1))])\n",
    "\n",
    "vote.fit(X_train.values, y_train)\n",
    "\n",
    "pred = vote.predict(X_test.values)\n",
    "\n",
    "conf_mat = confusion_matrix(y_test, pred)"
   ]
  },
  {
   "cell_type": "code",
   "execution_count": 18,
   "id": "9480f935",
   "metadata": {},
   "outputs": [
    {
     "name": "stdout",
     "output_type": "stream",
     "text": [
      "Test set TPR = 0.9048\n",
      "Test set FPR = 0.0139\n",
      "Test set precision =  0.9744\n"
     ]
    }
   ],
   "source": [
    "print(\"Test set TPR =\", np.round(conf_mat[1,1]/(conf_mat[1,0] + conf_mat[1,1]), 4))\n",
    "print(\"Test set FPR =\", np.round(conf_mat[0,1]/(conf_mat[0,0] + conf_mat[0,1]), 4))\n",
    "print(\"Test set precision = \", np.round(precision_score(y_test, pred), 4))"
   ]
  },
  {
   "cell_type": "markdown",
   "id": "cc9b2d58",
   "metadata": {},
   "source": [
    "All are slightly worse than the average CV metric. However, we should not expect to hit the average CV values, remember these are an estimate of the average performance of our classifier."
   ]
  },
  {
   "cell_type": "markdown",
   "id": "527a53af",
   "metadata": {},
   "source": [
    "--------------------------\n",
    "\n",
    "This notebook was written for the Erd&#337;s Institute C&#337;de Data Science Boot Camp by Matthew Osborne, Ph. D., 2022.\n",
    "\n",
    "Any potential redistributors must seek and receive permission from Matthew Tyler Osborne, Ph.D. prior to redistribution. Redistribution of the material contained in this repository is conditional on acknowledgement of Matthew Tyler Osborne, Ph.D.'s original authorship and sponsorship of the Erdős Institute as subject to the license (see License.md)"
   ]
  },
  {
   "cell_type": "code",
   "execution_count": null,
   "id": "a3aad47e",
   "metadata": {},
   "outputs": [],
   "source": []
  }
 ],
 "metadata": {
  "kernelspec": {
   "display_name": "Python 3",
   "language": "python",
   "name": "python3"
  },
  "language_info": {
   "codemirror_mode": {
    "name": "ipython",
    "version": 3
   },
   "file_extension": ".py",
   "mimetype": "text/x-python",
   "name": "python",
   "nbconvert_exporter": "python",
   "pygments_lexer": "ipython3",
   "version": "3.8.8"
  }
 },
 "nbformat": 4,
 "nbformat_minor": 5
}
