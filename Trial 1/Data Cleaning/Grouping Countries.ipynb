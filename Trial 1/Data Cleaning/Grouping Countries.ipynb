{
 "cells": [
  {
   "cell_type": "markdown",
   "id": "5881a50c",
   "metadata": {},
   "source": [
    "First let's load up some basic files"
   ]
  },
  {
   "cell_type": "code",
   "execution_count": 16,
   "id": "10171c26",
   "metadata": {},
   "outputs": [],
   "source": [
    "import pandas as pd\n",
    "import numpy as np"
   ]
  },
  {
   "cell_type": "markdown",
   "id": "6085a715",
   "metadata": {},
   "source": [
    "Now let's load up our base coffee data"
   ]
  },
  {
   "cell_type": "code",
   "execution_count": 17,
   "id": "b9bbac73",
   "metadata": {},
   "outputs": [],
   "source": [
    "coffee_df = pd.read_csv('../data/coffee.csv')"
   ]
  },
  {
   "cell_type": "markdown",
   "id": "da9b7816",
   "metadata": {},
   "source": [
    "Creating a copy of the original"
   ]
  },
  {
   "cell_type": "code",
   "execution_count": 18,
   "id": "dd9a9103",
   "metadata": {},
   "outputs": [],
   "source": [
    "coffee = coffee_df.copy()"
   ]
  },
  {
   "cell_type": "code",
   "execution_count": 19,
   "id": "e5716d94",
   "metadata": {},
   "outputs": [
    {
     "data": {
      "text/html": [
       "<div>\n",
       "<style scoped>\n",
       "    .dataframe tbody tr th:only-of-type {\n",
       "        vertical-align: middle;\n",
       "    }\n",
       "\n",
       "    .dataframe tbody tr th {\n",
       "        vertical-align: top;\n",
       "    }\n",
       "\n",
       "    .dataframe thead th {\n",
       "        text-align: right;\n",
       "    }\n",
       "</style>\n",
       "<table border=\"1\" class=\"dataframe\">\n",
       "  <thead>\n",
       "    <tr style=\"text-align: right;\">\n",
       "      <th></th>\n",
       "      <th>Country_of_Origin</th>\n",
       "      <th>Processing_Method</th>\n",
       "      <th>Aroma</th>\n",
       "      <th>Flavor</th>\n",
       "      <th>Aftertaste</th>\n",
       "      <th>Acidity</th>\n",
       "      <th>Body</th>\n",
       "      <th>Balance</th>\n",
       "      <th>Uniformity</th>\n",
       "      <th>Clean_Cup</th>\n",
       "      <th>Sweetness</th>\n",
       "      <th>Cupper_Points</th>\n",
       "      <th>altitude_low_meters</th>\n",
       "      <th>altitude_high_meters</th>\n",
       "      <th>altitude_mean_meters</th>\n",
       "    </tr>\n",
       "  </thead>\n",
       "  <tbody>\n",
       "    <tr>\n",
       "      <th>0</th>\n",
       "      <td>Ethiopia</td>\n",
       "      <td>Washed / Wet</td>\n",
       "      <td>8.67</td>\n",
       "      <td>8.83</td>\n",
       "      <td>8.67</td>\n",
       "      <td>8.75</td>\n",
       "      <td>8.50</td>\n",
       "      <td>8.42</td>\n",
       "      <td>10.0</td>\n",
       "      <td>10.0</td>\n",
       "      <td>10.0</td>\n",
       "      <td>8.75</td>\n",
       "      <td>1950.0</td>\n",
       "      <td>2200.0</td>\n",
       "      <td>2075.0</td>\n",
       "    </tr>\n",
       "    <tr>\n",
       "      <th>1</th>\n",
       "      <td>Ethiopia</td>\n",
       "      <td>Washed / Wet</td>\n",
       "      <td>8.75</td>\n",
       "      <td>8.67</td>\n",
       "      <td>8.50</td>\n",
       "      <td>8.58</td>\n",
       "      <td>8.42</td>\n",
       "      <td>8.42</td>\n",
       "      <td>10.0</td>\n",
       "      <td>10.0</td>\n",
       "      <td>10.0</td>\n",
       "      <td>8.58</td>\n",
       "      <td>1950.0</td>\n",
       "      <td>2200.0</td>\n",
       "      <td>2075.0</td>\n",
       "    </tr>\n",
       "    <tr>\n",
       "      <th>2</th>\n",
       "      <td>Guatemala</td>\n",
       "      <td>NaN</td>\n",
       "      <td>8.42</td>\n",
       "      <td>8.50</td>\n",
       "      <td>8.42</td>\n",
       "      <td>8.42</td>\n",
       "      <td>8.33</td>\n",
       "      <td>8.42</td>\n",
       "      <td>10.0</td>\n",
       "      <td>10.0</td>\n",
       "      <td>10.0</td>\n",
       "      <td>9.25</td>\n",
       "      <td>1600.0</td>\n",
       "      <td>1800.0</td>\n",
       "      <td>1700.0</td>\n",
       "    </tr>\n",
       "    <tr>\n",
       "      <th>3</th>\n",
       "      <td>Ethiopia</td>\n",
       "      <td>Natural / Dry</td>\n",
       "      <td>8.17</td>\n",
       "      <td>8.58</td>\n",
       "      <td>8.42</td>\n",
       "      <td>8.42</td>\n",
       "      <td>8.50</td>\n",
       "      <td>8.25</td>\n",
       "      <td>10.0</td>\n",
       "      <td>10.0</td>\n",
       "      <td>10.0</td>\n",
       "      <td>8.67</td>\n",
       "      <td>1800.0</td>\n",
       "      <td>2200.0</td>\n",
       "      <td>2000.0</td>\n",
       "    </tr>\n",
       "    <tr>\n",
       "      <th>4</th>\n",
       "      <td>Ethiopia</td>\n",
       "      <td>Washed / Wet</td>\n",
       "      <td>8.25</td>\n",
       "      <td>8.50</td>\n",
       "      <td>8.25</td>\n",
       "      <td>8.50</td>\n",
       "      <td>8.42</td>\n",
       "      <td>8.33</td>\n",
       "      <td>10.0</td>\n",
       "      <td>10.0</td>\n",
       "      <td>10.0</td>\n",
       "      <td>8.58</td>\n",
       "      <td>1950.0</td>\n",
       "      <td>2200.0</td>\n",
       "      <td>2075.0</td>\n",
       "    </tr>\n",
       "  </tbody>\n",
       "</table>\n",
       "</div>"
      ],
      "text/plain": [
       "  Country_of_Origin Processing_Method  Aroma  Flavor  Aftertaste  Acidity  \\\n",
       "0          Ethiopia      Washed / Wet   8.67    8.83        8.67     8.75   \n",
       "1          Ethiopia      Washed / Wet   8.75    8.67        8.50     8.58   \n",
       "2         Guatemala               NaN   8.42    8.50        8.42     8.42   \n",
       "3          Ethiopia     Natural / Dry   8.17    8.58        8.42     8.42   \n",
       "4          Ethiopia      Washed / Wet   8.25    8.50        8.25     8.50   \n",
       "\n",
       "   Body  Balance  Uniformity  Clean_Cup  Sweetness  Cupper_Points  \\\n",
       "0  8.50     8.42        10.0       10.0       10.0           8.75   \n",
       "1  8.42     8.42        10.0       10.0       10.0           8.58   \n",
       "2  8.33     8.42        10.0       10.0       10.0           9.25   \n",
       "3  8.50     8.25        10.0       10.0       10.0           8.67   \n",
       "4  8.42     8.33        10.0       10.0       10.0           8.58   \n",
       "\n",
       "   altitude_low_meters  altitude_high_meters  altitude_mean_meters  \n",
       "0               1950.0                2200.0                2075.0  \n",
       "1               1950.0                2200.0                2075.0  \n",
       "2               1600.0                1800.0                1700.0  \n",
       "3               1800.0                2200.0                2000.0  \n",
       "4               1950.0                2200.0                2075.0  "
      ]
     },
     "execution_count": 19,
     "metadata": {},
     "output_type": "execute_result"
    }
   ],
   "source": [
    "coffee.head()"
   ]
  },
  {
   "cell_type": "markdown",
   "id": "e71ea94c",
   "metadata": {},
   "source": [
    "Grouping Countries Together"
   ]
  },
  {
   "cell_type": "code",
   "execution_count": 20,
   "id": "2b12adaa",
   "metadata": {},
   "outputs": [],
   "source": [
    "coffee['Country_of_Origin'].replace(['Peru','Colombia'], 'NW South America', inplace=True)"
   ]
  },
  {
   "cell_type": "code",
   "execution_count": 21,
   "id": "abaf04c2",
   "metadata": {},
   "outputs": [],
   "source": [
    "coffee['Country_of_Origin'].replace(['Ethiopia','Tanzania, United Republic Of','Uganda','Malawi','Kenya' ], 'East Africa', inplace=True)"
   ]
  },
  {
   "cell_type": "code",
   "execution_count": 22,
   "id": "5c0d7a7a",
   "metadata": {},
   "outputs": [],
   "source": [
    "coffee['Country_of_Origin'].replace(['Guatemala','Honduras','Costa Rica','Nicaragua','El Salvador' ], 'Central America', inplace=True)"
   ]
  },
  {
   "cell_type": "code",
   "execution_count": 23,
   "id": "1a6d651c",
   "metadata": {},
   "outputs": [
    {
     "name": "stdout",
     "output_type": "stream",
     "text": [
      "Central America           331\n",
      "Mexico                    236\n",
      "NW South America          193\n",
      "East Africa               146\n",
      "Brazil                    132\n",
      "Taiwan                     75\n",
      "United States (Hawaii)     73\n",
      "Thailand                   32\n",
      "Indonesia                  20\n",
      "China                      16\n",
      "Name: Country_of_Origin, dtype: int64\n",
      "\n"
     ]
    }
   ],
   "source": [
    "print(coffee.Country_of_Origin.value_counts())\n",
    "print()"
   ]
  },
  {
   "cell_type": "markdown",
   "id": "c35903d3",
   "metadata": {},
   "source": [
    "Saving the file."
   ]
  },
  {
   "cell_type": "code",
   "execution_count": 24,
   "id": "435abfe6",
   "metadata": {},
   "outputs": [],
   "source": [
    "coffee.to_csv('../data/coffee_grouped.csv',index = False)"
   ]
  }
 ],
 "metadata": {
  "kernelspec": {
   "display_name": "Python 3",
   "language": "python",
   "name": "python3"
  },
  "language_info": {
   "codemirror_mode": {
    "name": "ipython",
    "version": 3
   },
   "file_extension": ".py",
   "mimetype": "text/x-python",
   "name": "python",
   "nbconvert_exporter": "python",
   "pygments_lexer": "ipython3",
   "version": "3.8.8"
  }
 },
 "nbformat": 4,
 "nbformat_minor": 5
}
